{
 "cells": [
  {
   "cell_type": "markdown",
   "id": "f4441533-4d5a-4c9e-8906-1df24bda96ec",
   "metadata": {},
   "source": [
    "## Tutorial 4. OTO with Distributed Data Parallelism\n",
    "\n",
    "\n",
    "In this tutorial, we briefly show how to use the pruning mode of OTO to train and prune DNN under **distributed data parallelism (DDP)**.\n",
    "\n",
    "We acknowledge the contributions from @C0NGTRI123 on DDP support from [issue](https://github.com/tianyic/only_train_once/issues/44)."
   ]
  },
  {
   "cell_type": "markdown",
   "id": "8067c3a6-bf56-4c85-96fb-2d4da488680b",
   "metadata": {},
   "source": [
    "### Step 1. Create OTO instance\n",
    "\n",
    "Create OTO instance **before warping DNN into distributed DNN**. \n",
    "\n",
    "We recommand to create model and dummy input on CPU."
   ]
  },
  {
   "cell_type": "code",
   "execution_count": null,
   "id": "f2ce0399-51c7-4afc-b0f0-35bda3698825",
   "metadata": {},
   "outputs": [],
   "source": [
    "from only_train_once import OTO\n",
    "\n",
    "oto = OTO(model, dummy_input)\n",
    "\n",
    "\n",
    "from torch.nn.parallel import DistributedDataParallel as DDP\n",
    "model = model.to(local_rank)\n",
    "model = DDP(model, device_ids=[local_rank])"
   ]
  },
  {
   "cell_type": "markdown",
   "id": "01639056-422d-4bfb-89db-ff9f0725e807",
   "metadata": {},
   "source": [
    "### Step 2. Create optimizer and train as normal\n",
    "\n",
    "Set up the `device` as current `local_rank`.\n",
    "\n",
    "We acknowledge the contribution from @Nadav-out on the [pull request](https://github.com/tianyic/only_train_once/pull/53)."
   ]
  },
  {
   "cell_type": "code",
   "execution_count": null,
   "id": "3e8cefb1-85cf-4833-a6ff-ee2f9270f02d",
   "metadata": {},
   "outputs": [],
   "source": [
    "optimizer = oto.hesso(\n",
    "        device=local_rank, \n",
    "        ... # other arguments are the same as standalone training. \n",
    "    )\n",
    "\n",
    "# Train as normal\n",
    "optimizer.step()"
   ]
  },
  {
   "cell_type": "markdown",
   "id": "fc99fc48-fed7-41a5-ab6d-f2e5686f2003",
   "metadata": {},
   "source": [
    "### Step 3. Construct sub-network\n",
    "\n",
    "Call `oto.construct_subnet()` on only one GPU."
   ]
  },
  {
   "cell_type": "code",
   "execution_count": null,
   "id": "7ff0b356",
   "metadata": {},
   "outputs": [],
   "source": [
    "if local_rank == 0:\n",
    "    oto.construct_subnet(...)"
   ]
  }
 ],
 "metadata": {
  "kernelspec": {
   "display_name": "Python 3 (ipykernel)",
   "language": "python",
   "name": "python3"
  },
  "language_info": {
   "codemirror_mode": {
    "name": "ipython",
    "version": 3
   },
   "file_extension": ".py",
   "mimetype": "text/x-python",
   "name": "python",
   "nbconvert_exporter": "python",
   "pygments_lexer": "ipython3",
   "version": "3.11.3"
  }
 },
 "nbformat": 4,
 "nbformat_minor": 5
}
